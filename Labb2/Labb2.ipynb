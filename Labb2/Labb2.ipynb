{
 "cells": [
  {
   "cell_type": "markdown",
   "metadata": {},
   "source": [
    "Labb 2 lets go."
   ]
  },
  {
   "cell_type": "code",
   "execution_count": null,
   "metadata": {},
   "outputs": [],
   "source": [
    "import numpy as np\n",
    "import pandas as pd\n",
    "import matplotlib.pyplot as plt\n",
    "import seaborn as sns\n",
    "\n",
    "# Correct the file paths\n",
    "betyg_file_path = r\"C:\\Users\\Burai\\Downloads\\betyg_o_prov_riksnivå.xlsx\"\n",
    "ak9_file_path = r\"C:\\Users\\Burai\\Downloads\\riket2023_åk9_np.xlsx\"\n",
    "\n",
    "# Read the data from each file separately\n",
    "df_betyg = pd.read_excel(betyg_file_path)\n",
    "df_ak9 = pd.read_excel(ak9_file_path)\n",
    "\n",
    "#Save to excel files\n",
    "df_betyg.to_excel(r'C:\\Users\\Burai\\OneDrive\\Documents\\GitHub\\Brian-Gomez-Santiestevez-OPA23GB/Labb2/betyg.xlsx', index=False)\n",
    "df_ak9.to_excel(r'C:\\Users\\Burai\\OneDrive\\Documents\\GitHub\\Brian-Gomez-Santiestevez-OPA23GB/Labb2/ak9.xlsx', index=False)\n"
   ]
  },
  {
   "cell_type": "markdown",
   "metadata": {},
   "source": []
  },
  {
   "cell_type": "code",
   "execution_count": null,
   "metadata": {},
   "outputs": [
    {
     "name": "stdout",
     "output_type": "stream",
     "text": [
      "meow\n"
     ]
    }
   ],
   "source": [
    "print(\"meow\")"
   ]
  },
  {
   "cell_type": "markdown",
   "metadata": {},
   "source": [
    "Uppgift 0 - uppvärmning med riket\n",
    "I den här uppgiften ska du visualisera med hjälp av matplotlib och/eller seaborn\n",
    "\n",
    "a) Börja med att läsa in filen riket2023_åk9_np.xlsx och sheets för de olika ämnena. Ändra kolumnnamnen på\n",
    "respektive dataframe så du får något liknande som nedan.\n",
    "\n",
    "b) Ta reda på antalet som fått F i matematik totalt, pojkar respektive flickor.\n",
    "\n",
    "c) Rita ett stapeldiagram på totala poängen för de olika ämnena.\n",
    "\n",
    "d) Rita fyra olika stapeldiagram i subplots på totala poängen för de olika ämnena för de olika huvudmännen.\n",
    "\n",
    "e) Rita ett stapeldiagram i subplots på totala poängen för de olika ämnena för de olika huvudmännen."
   ]
  },
  {
   "cell_type": "code",
   "execution_count": 29,
   "metadata": {},
   "outputs": [],
   "source": [
    "import pandas as pd\n",
    "import numpy as np\n",
    "import matplotlib.pyplot as plt\n",
    "import seaborn as sns\n",
    "\n",
    "ak9_file_path = \"ak9.xlsx\"\n",
    "df_ak9 = pd.read_excel(ak9_file_path)\n"
   ]
  },
  {
   "cell_type": "code",
   "execution_count": null,
   "metadata": {},
   "outputs": [],
   "source": []
  }
 ],
 "metadata": {
  "kernelspec": {
   "display_name": "Python 3",
   "language": "python",
   "name": "python3"
  },
  "language_info": {
   "codemirror_mode": {
    "name": "ipython",
    "version": 3
   },
   "file_extension": ".py",
   "mimetype": "text/x-python",
   "name": "python",
   "nbconvert_exporter": "python",
   "pygments_lexer": "ipython3",
   "version": "3.12.2"
  }
 },
 "nbformat": 4,
 "nbformat_minor": 2
}
