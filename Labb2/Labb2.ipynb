{
 "cells": [
  {
   "cell_type": "markdown",
   "metadata": {},
   "source": [
    "Labb 2 lets go."
   ]
  },
  {
   "cell_type": "code",
   "execution_count": 10,
   "metadata": {},
   "outputs": [],
   "source": [
    "import numpy as np\n",
    "import pandas as pd\n",
    "import matplotlib.pyplot as plt\n",
    "import seaborn as sns\n",
    "\n",
    "# Correct the file paths\n",
    "betyg_file_path = r\"C:\\Users\\Burai\\Downloads\\betyg_o_prov_riksnivå.xlsx\"\n",
    "ak9_file_path = r\"C:\\Users\\Burai\\Downloads\\riket2023_åk9_np.xlsx\"\n",
    "\n",
    "# Read the data from each file separately\n",
    "df_betyg = pd.read_excel(betyg_file_path)\n",
    "df_ak9 = pd.read_excel(ak9_file_path)\n",
    "\n",
    "#Save to excel files\n",
    "df_betyg.to_excel(r'C:\\Users\\Burai\\OneDrive\\Documents\\GitHub\\Brian-Gomez-Santiestevez-OPA23GB/Labb2/betyg.xlsx', index=False)\n",
    "df_ak9.to_excel(r'C:\\Users\\Burai\\OneDrive\\Documents\\GitHub\\Brian-Gomez-Santiestevez-OPA23GB/Labb2/ak9.xlsx', index=False)\n"
   ]
  },
  {
   "cell_type": "markdown",
   "metadata": {},
   "source": []
  },
  {
   "cell_type": "code",
   "execution_count": null,
   "metadata": {},
   "outputs": [],
   "source": []
  },
  {
   "cell_type": "code",
   "execution_count": null,
   "metadata": {},
   "outputs": [],
   "source": []
  }
 ],
 "metadata": {
  "kernelspec": {
   "display_name": "Python 3",
   "language": "python",
   "name": "python3"
  },
  "language_info": {
   "codemirror_mode": {
    "name": "ipython",
    "version": 3
   },
   "file_extension": ".py",
   "mimetype": "text/x-python",
   "name": "python",
   "nbconvert_exporter": "python",
   "pygments_lexer": "ipython3",
   "version": "3.12.2"
  }
 },
 "nbformat": 4,
 "nbformat_minor": 2
}
