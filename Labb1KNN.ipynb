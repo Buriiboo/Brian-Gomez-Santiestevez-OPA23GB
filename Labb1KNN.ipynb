{
 "cells": [
  {
   "cell_type": "code",
   "execution_count": null,
   "metadata": {},
   "outputs": [],
   "source": []
  },
  {
   "cell_type": "markdown",
   "metadata": {},
   "source": [
    "##Pokedex thingy\n",
    "\n",
    "i just found out we're using the KNN model for the lab. Hence why i made a separate file for easier distinguishing.\n"
   ]
  },
  {
   "cell_type": "code",
   "execution_count": 15,
   "metadata": {},
   "outputs": [
    {
     "name": "stdout",
     "output_type": "stream",
     "text": [
      "(18, 45, 'Pikachu')\n",
      "(27, 41, 'Pikachu')\n",
      "(26, 39, 'Pikachu')\n",
      "(24, 40, 'Pikachu')\n",
      "(21, 36, 'Pikachu')\n",
      "(20, 29, 'Pichu')\n",
      "(15, 27, 'Pichu')\n",
      "(17, 28, 'Pichu')\n",
      "(17, 34, 'Pichu')\n",
      "(21, 31, 'Pichu')\n"
     ]
    }
   ],
   "source": [
    "#outdated code. I'm keeping it for reference.\n",
    "\n",
    "'''\n",
    " def read_data_from_file(data_path, label):\n",
    "    data = []  # List to hold tuples\n",
    "    with open(data_path, \"r\") as file:\n",
    "        next(file)  # Skip the first line\n",
    "        for line in file:\n",
    "            cleaned_line = line.strip().strip(\"()\")  # removing the () from the line\n",
    "            parts = cleaned_line.split(\",\")  # splitting the line into parts using comma\n",
    "            if len(parts) == 2:  # Ensuring the line has exactly 2 parts\n",
    "                try:\n",
    "                    width, height = parts\n",
    "                    width = round(float(width)) # converting to float and rounding\n",
    "                    height = round(float(height))   # converting to float and rounding\n",
    "                    data.append((width, height, label))  # appending a tuple with correct label\n",
    "                except ValueError:\n",
    "                    # In case conversion to float fails\n",
    "                    print(f\"Warning: Could not process line: {line}\")\n",
    "    return data\n",
    "\n",
    "# Use for both Pikachu and Pichu\n",
    "file_path_pikachu = r\"C:\\Users\\Burai\\Downloads\\pikachu.txt\"\n",
    "file_path_pichu = r\"C:\\Users\\Burai\\Downloads\\pichu.txt\"\n",
    "\n",
    "converted_data_pikachu = read_data_from_file(file_path_pikachu, \"Pikachu\")\n",
    "converted_data_pichu = read_data_from_file(file_path_pichu, \"Pichu\")\n",
    "\n",
    "# Example of how to print or process your converted data\n",
    "for entry in converted_data_pikachu[:5]:  # Print first 5 entries for Pikachu\n",
    "    print(entry)\n",
    "\n",
    "for entry in converted_data_pichu[:5]:  # Print first 5 entries for Pichu\n",
    "    print(entry)\n",
    "'''"
   ]
  },
  {
   "cell_type": "markdown",
   "metadata": {},
   "source": [
    "Split the data in a 90/10 ratio for training and testing purposes.\n",
    "\n",
    "save the 90% for training and 10% for testing in new .txt files \n"
   ]
  },
  {
   "cell_type": "code",
   "execution_count": 12,
   "metadata": {},
   "outputs": [],
   "source": [
    "#outdated code. I'm keeping it for reference.\n",
    "\n",
    "''' def split_and_save_data(data, training_file_name, testing_file_name, ratio=0.1):\n",
    "    \n",
    "    \n",
    "    # Calculate the split index\n",
    "    split_index = int(len(data) * (1 - ratio))\n",
    "    \n",
    "    # Split the data\n",
    "    data_for_training, data_for_testing = data[:split_index], data[split_index:]\n",
    "    \n",
    "    # Save the 80% training split to a file\n",
    "    with open(training_file_name, \"w\") as file:\n",
    "        for entry in data_for_training:\n",
    "            file.write(f\"{entry[0]}, {entry[1]}, {entry[2]}\\n\")  # Format: width, height, label\n",
    "\n",
    "    # Save the 20% testing split to a file\n",
    "    with open(testing_file_name, \"w\") as file:\n",
    "        for entry in data_for_testing:\n",
    "            file.write(f\"{entry[0]}, {entry[1]}, {entry[2]}\\n\")  # Format: width, height, label\n",
    "\n",
    "# \n",
    "split_and_save_data(converted_data_pikachu, \"Data_pika_training.txt\", \"Data_pika_testing.txt\")\n",
    "split_and_save_data(converted_data_pichu, \"Data_pichu_training.txt\", \"Data_pichu_testing.txt\")\n"
   ]
  },
  {
   "cell_type": "code",
   "execution_count": 27,
   "metadata": {},
   "outputs": [],
   "source": [
    "import random \n",
    "import re\n",
    "\n",
    "\n",
    "\n",
    "\n",
    "def read_and_combine_data(file_path_pikachu, file_path_pichu):\n",
    "    data = []  # List to hold all data\n",
    "    # Function to read and append data\n",
    "    def read_data(file_path, label):\n",
    "        with open(file_path, \"r\") as file:\n",
    "            next(file)  # Skip the header\n",
    "            for line in file:\n",
    "                cleaned_line = line.strip().strip(\"()\")  # removing the () from the line\n",
    "                parts = cleaned_line.split(\",\")  # splitting the line into parts using comma\n",
    "                if len(parts) == 2:  # Ensuring the line has exactly 2 parts\n",
    "                    try:\n",
    "                        width, height = parts\n",
    "                        width = round(float(width)) # converting to float and rounding\n",
    "                        height = round(float(height))   # converting to float and rounding\n",
    "                        data.append((width, height, label))  # appending a tuple with correct label\n",
    "                    except ValueError:\n",
    "                        # In case conversion to float fails\n",
    "                        print(f\"Warning: Could not process line: {line}\")\n",
    "                \n",
    "    \n",
    "    # Read and combine Pikachu and Pichu data\n",
    "    read_data(file_path_pikachu, \"Pikachu\")\n",
    "    read_data(file_path_pichu, \"Pichu\")\n",
    "    return data\n",
    "\n",
    "def split_and_save_data(data, training_file_name, testing_file_name, ratio=0.1):\n",
    "    random.shuffle(data)  # Shuffle the combined data to ensure randomness\n",
    "    split_index = int(len(data) * (1 - ratio))\n",
    "    data_for_training, data_for_testing = data[:split_index], data[split_index:]\n",
    "    \n",
    "    with open(training_file_name, \"w\") as train_file:\n",
    "        for entry in data_for_training:\n",
    "            train_file.write(f\"{entry[0]}, {entry[1]}, {entry[2]}\\n\")\n",
    "    \n",
    "    with open(testing_file_name, \"w\") as test_file:\n",
    "        for entry in data_for_testing:\n",
    "            test_file.write(f\"{entry[0]}, {entry[1]}, {entry[2]}\\n\")\n",
    "\n",
    "\n",
    "# Use for both Pikachu and Pichu\n",
    "file_path_pikachu = r\"C:\\Users\\Burai\\Downloads\\pikachu.txt\"\n",
    "file_path_pichu = r\"C:\\Users\\Burai\\Downloads\\pichu.txt\"\n",
    "\n",
    "# Combine Pikachu and Pichu data\n",
    "combined_data = read_and_combine_data(pikachu_file_path, pichu_file_path)\n",
    "\n",
    "# Split and save the combined data\n",
    "split_and_save_data(combined_data, \"Data_training.txt\", \"Data_testing.txt\")\n"
   ]
  },
  {
   "cell_type": "markdown",
   "metadata": {},
   "source": [
    "##Formula\n",
    "\n",
    "Euclidean Distance Formula\n",
    "The Euclidean distance formula says:\n",
    "\n",
    "d = √[ (x\n",
    "2\n",
    " – x\n",
    "1\n",
    ")2 + (y\n",
    "2\n",
    " – y\n",
    "1\n",
    ")2]\n",
    "\n",
    "where,\n",
    "\n",
    "(x\n",
    "1\n",
    ", y\n",
    "1\n",
    ") are the coordinates of one point.\n",
    "(x\n",
    "2\n",
    ", y\n",
    "2\n",
    ") are the coordinates of the other point.\n",
    "d is the distance between (x\n",
    "1\n",
    ", y\n",
    "1\n",
    ") and (x\n",
    "2\n",
    ", y\n",
    "2\n",
    ").\n",
    "\n"
   ]
  },
  {
   "cell_type": "code",
   "execution_count": 13,
   "metadata": {},
   "outputs": [
    {
     "data": {
      "image/png": "[encoded data removed]",
      "text/plain": [
       "<Figure size 800x600 with 1 Axes>"
      ]
     },
     "metadata": {},
     "output_type": "display_data"
    }
   ],
   "source": [
    "import math\n",
    "import matplotlib.pyplot as plt ## i got the graph from GPT3. I'm not sure if it's correct. I'm keeping it for reference.\n",
    "\n",
    "def euclidean_distance(point1, point2):\n",
    "    \"\"\"Calculate the Euclidean distance between two points.\"\"\"\n",
    "    return math.sqrt(sum((p - q) ** 2 for p, q in zip(point1, point2)))\n",
    "\n",
    "# Points example\n",
    "point1 = (4, 3)  # e.g., Pikachu\n",
    "point2 = (7, 4)  # e.g., Pichu\n",
    "\n",
    "# Calculate distance\n",
    "distance = euclidean_distance(point1, point2)\n",
    "\n",
    "# Plotting\n",
    "plt.figure(figsize=(8, 6))\n",
    "# Plot points\n",
    "plt.plot(*point1, 'ro', label='Point 1 (Pikachu)')  # Red dot\n",
    "plt.plot(*point2, 'bo', label='Point 2 (Pichu)')    # Blue dot\n",
    "# Plot line between points\n",
    "plt.plot([point1[0], point2[0]], [point1[1], point2[1]], 'k-', label=f'Euclidean distance: {distance:.2f}')\n",
    "\n",
    "# Additional plot formatting\n",
    "plt.xlabel('Width')\n",
    "plt.ylabel('Height')\n",
    "plt.title('Euclidean Distance Between Two Points')\n",
    "plt.legend()\n",
    "plt.grid(True)\n",
    "plt.axis('equal')  # Equal aspect ratio ensures that the distance is represented accurately.\n",
    "\n",
    "plt.show()\n"
   ]
  },
  {
   "cell_type": "code",
   "execution_count": 51,
   "metadata": {},
   "outputs": [
    {
     "name": "stdout",
     "output_type": "stream",
     "text": [
      "The predicted label is:  Pichu\n"
     ]
    }
   ],
   "source": [
    "import numpy as np\n",
    "\n",
    "def euclidean_distance(instance1, instance2): # using numpy now.\n",
    "    \"\"\"\n",
    "    Calculate the Euclidean distance between two data points.\n",
    "    \"\"\"\n",
    "    return np.sqrt(np.sum((np.array(instance1) - np.array(instance2)) ** 2))\n",
    "\n",
    "def knn(data, query, k, distance_fn, choice_fn):\n",
    "    \"\"\"\n",
    "    k-nearest neighbors algorithm.\n",
    "    \"\"\"\n",
    "    neighbor_distances_and_indices = []\n",
    "\n",
    "    # For each example in the data\n",
    "    for index, example in enumerate(data):\n",
    "        # Example[:-1] is the feature set; example[-1] is the label\n",
    "        distance = distance_fn(example[:-1], query)\n",
    "        neighbor_distances_and_indices.append((distance, index))\n",
    "\n",
    "    # Sort based on distance and select the first k entries\n",
    "    sorted_neighbors = sorted(neighbor_distances_and_indices)\n",
    "\n",
    "    # Extract the indices of the k nearest neighbors\n",
    "    k_nearest_indices = [index for _, index in sorted_neighbors[:k]]\n",
    "    \n",
    "    # Voting mechanism: choose the most common label among the nearest neighbors\n",
    "    k_nearest_labels = [data[i][-1] for i in k_nearest_indices]    \n",
    "    return choice_fn(k_nearest_labels)\n",
    "\n",
    "def mode(labels):\n",
    "    \"\"\"\n",
    "    Return the most common label.\n",
    "    \"\"\"\n",
    "    return max(set(labels), key=labels.count)\n",
    "\n",
    "def load_data_from_file(file_path): # loading data from file. copypasted from the previous code. My idea is to possibly use this to save into \"training_data\" when users input their own data.\n",
    "    data = []  # List to hold all data tuples\n",
    "    with open(file_path, \"r\") as file:\n",
    "        for line in file:\n",
    "            parts = line.strip().split(\",\")\n",
    "            if len(parts) == 3:  # Ensure there are exactly three parts\n",
    "                try:\n",
    "                    width = float(parts[0])\n",
    "                    height = float(parts[1])\n",
    "                    label = parts[2]\n",
    "                    data.append((width, height, label))\n",
    "                except ValueError as e:\n",
    "                    print(f\"Error processing line: {line}. Error: {e}\")\n",
    "    return data\n",
    "\n",
    "# Load training data\n",
    "training_file_path = \"Data_training.txt\"  \n",
    "training_data = load_data_from_file(training_file_path)\n",
    "\n",
    "\n",
    "# New instance to classify\n",
    "query = (21, 35) # dont forget to make this into a user input. WITH ERROR HANDLING.\n",
    "\n",
    "# Using KNN to predict the label of the new instance of data.\n",
    "\n",
    "k = 9 #rounded to 9 as to not have an even number. avoiding ties.\n",
    "predicted_label = knn(training_data, query, k, euclidean_distance, mode)\n",
    "\n",
    "print(f\"The predicted label is: {predicted_label}\")\n"
   ]
  },
  {
   "cell_type": "code",
   "execution_count": 31,
   "metadata": {},
   "outputs": [
    {
     "data": {
      "text/plain": [
       "9.486832980505138"
      ]
     },
     "execution_count": 31,
     "metadata": {},
     "output_type": "execute_result"
    }
   ],
   "source": [
    "np.sqrt(90) #source: Chatbot GPT3 when asked for conventional K value for KNN. Usually square root of the number of data points.\n",
    "\n",
    "#using this for K value for KNN\n"
   ]
  },
  {
   "cell_type": "code",
   "execution_count": null,
   "metadata": {},
   "outputs": [],
   "source": []
  }
 ],
 "metadata": {
  "kernelspec": {
   "display_name": "Python 3",
   "language": "python",
   "name": "python3"
  },
  "language_info": {
   "codemirror_mode": {
    "name": "ipython",
    "version": 3
   },
   "file_extension": ".py",
   "mimetype": "text/x-python",
   "name": "python",
   "nbconvert_exporter": "python",
   "pygments_lexer": "ipython3",
   "version": "3.12.2"
  }
 },
 "nbformat": 4,
 "nbformat_minor": 2
}
