{
 "cells": [
  {
   "cell_type": "code",
   "execution_count": 7,
   "metadata": {},
   "outputs": [],
   "source": [
    "import pandas as pd\n",
    "import numpy as np\n",
    "from scipy.sparse import csr_matrix\n",
    "from sklearn.neighbors import NearestNeighbors\n",
    "from fuzzywuzzy import process\n",
    "\n",
    "\n",
    "movies='ml-latest/movies.csv'\n",
    "ratings='ml-latest/ratings.csv'\n",
    "\n",
    "df_movies=pd.read_csv(movies, usecols=['movieId','title'], dtype={'movieId':'int32','title':'str'})\n",
    "df_ratings=pd.read_csv(ratings, usecols=['userId','movieId','rating'], dtype={'userId':'int32','movieId':'int32','rating':'float32'})\n"
   ]
  },
  {
   "cell_type": "code",
   "execution_count": 8,
   "metadata": {},
   "outputs": [],
   "source": [
    "def setup_recommender(data, model):\n",
    "    model.fit(data)"
   ]
  },
  {
   "cell_type": "code",
   "execution_count": 9,
   "metadata": {},
   "outputs": [],
   "source": [
    "def recommender(movie_name, df_movies, data, model, n_recommendations):\n",
    "    # Find the best matching movie index using fuzzy matching\n",
    "    idx = process.extractOne(movie_name, df_movies['title'], score_cutoff=70)\n",
    "    if idx:\n",
    "        movie_idx = idx[2]\n",
    "        print(f\"Movie Selected: {df_movies['title'][movie_idx]}, Index: {movie_idx}\")\n",
    "        print('Searching for recommendations...')\n",
    "        distances, indices = model.kneighbors(data[movie_idx], n_neighbors=n_recommendations)\n",
    "        recommendations = [df_movies['title'][i] for i in indices.flatten() if i != movie_idx]\n",
    "        \n",
    "        # Print all recommendations at once\n",
    "        print(\"\\nRecommended Movies:\")\n",
    "        for title in recommendations:\n",
    "            print(title)\n",
    "    else:\n",
    "        print(\"No matching movie found. Please try another name.\")"
   ]
  },
  {
   "cell_type": "code",
   "execution_count": 10,
   "metadata": {},
   "outputs": [
    {
     "ename": "AttributeError",
     "evalue": "'ellipsis' object has no attribute 'fit'",
     "output_type": "error",
     "traceback": [
      "\u001b[1;31m---------------------------------------------------------------------------\u001b[0m",
      "\u001b[1;31mAttributeError\u001b[0m                            Traceback (most recent call last)",
      "Cell \u001b[1;32mIn[10], line 6\u001b[0m\n\u001b[0;32m      3\u001b[0m df_movies \u001b[38;5;241m=\u001b[39m \u001b[38;5;241m.\u001b[39m\u001b[38;5;241m.\u001b[39m\u001b[38;5;241m.\u001b[39m \u001b[38;5;66;03m# DataFrame containing movie titles\u001b[39;00m\n\u001b[0;32m      4\u001b[0m mat_movies_users \u001b[38;5;241m=\u001b[39m \u001b[38;5;241m.\u001b[39m\u001b[38;5;241m.\u001b[39m\u001b[38;5;241m.\u001b[39m \u001b[38;5;66;03m# user-item matrix for recommendations\u001b[39;00m\n\u001b[1;32m----> 6\u001b[0m \u001b[43msetup_recommender\u001b[49m\u001b[43m(\u001b[49m\u001b[43mmat_movies_users\u001b[49m\u001b[43m,\u001b[49m\u001b[43m \u001b[49m\u001b[43mmodel_knn\u001b[49m\u001b[43m)\u001b[49m\n\u001b[0;32m      7\u001b[0m recommender(\u001b[38;5;124m'\u001b[39m\u001b[38;5;124mjurassic\u001b[39m\u001b[38;5;124m'\u001b[39m, df_movies, mat_movies_users, model_knn, \u001b[38;5;241m20\u001b[39m)\n",
      "Cell \u001b[1;32mIn[8], line 2\u001b[0m, in \u001b[0;36msetup_recommender\u001b[1;34m(data, model)\u001b[0m\n\u001b[0;32m      1\u001b[0m \u001b[38;5;28;01mdef\u001b[39;00m \u001b[38;5;21msetup_recommender\u001b[39m(data, model):\n\u001b[1;32m----> 2\u001b[0m     \u001b[43mmodel\u001b[49m\u001b[38;5;241;43m.\u001b[39;49m\u001b[43mfit\u001b[49m(data)\n",
      "\u001b[1;31mAttributeError\u001b[0m: 'ellipsis' object has no attribute 'fit'"
     ]
    }
   ],
   "source": [
    "## init model_knn, df_movies, mat_movies_users\n",
    "\n",
    "setup_recommender(mat_movies_users, model_knn)\n",
    "recommender('jurassic', df_movies, mat_movies_users, model_knn, 20)"
   ]
  }
 ],
 "metadata": {
  "kernelspec": {
   "display_name": "Python 3",
   "language": "python",
   "name": "python3"
  },
  "language_info": {
   "codemirror_mode": {
    "name": "ipython",
    "version": 3
   },
   "file_extension": ".py",
   "mimetype": "text/x-python",
   "name": "python",
   "nbconvert_exporter": "python",
   "pygments_lexer": "ipython3",
   "version": "3.12.2"
  }
 },
 "nbformat": 4,
 "nbformat_minor": 2
}
